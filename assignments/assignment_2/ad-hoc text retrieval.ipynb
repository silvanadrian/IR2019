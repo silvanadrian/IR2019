{
 "cells": [
  {
   "cell_type": "markdown",
   "metadata": {},
   "source": [
    "# Word embeddings for ad-hoctext retrieval"
   ]
  },
  {
   "cell_type": "markdown",
   "metadata": {},
   "source": [
    "## Parse Queries + Data"
   ]
  },
  {
   "cell_type": "code",
   "execution_count": 1,
   "metadata": {},
   "outputs": [],
   "source": [
    "text_corpus = dict()\n",
    "   \n",
    "corpus = open (\"data/trec_corpus.txt\", \"r\")\n",
    "    \n",
    "for line in corpus.readlines():\n",
    "    splitted_line = line.split(\" \")\n",
    "    text = splitted_line[1:]\n",
    "    docid = splitted_line[0]\n",
    "    text_corpus[docid] = text\n",
    "\n",
    "del corpus"
   ]
  },
  {
   "cell_type": "code",
   "execution_count": 2,
   "metadata": {},
   "outputs": [
    {
     "name": "stdout",
     "output_type": "stream",
     "text": [
      "['drlat', 'o', 'fbis', 'lat', 'document', 'type', 'daily', 'report', 'mar', 'colombia', 'criticizes', 'drug', 'consuming', 'countries', 'pa', 'santa', 'fe', 'de', 'bogota', 'inravision', 'television', 'cadena', 'in', 'spanish', 'gmt', 'mar', 'pa', 'santa', 'fe', 'de', 'bogota', 'inravision', 'television', 'cadena', 'language', 'spanish', 'article', 'type', 'bfn', 'from', 'the', 'ntc', 'news', 'newscast', 'text', 'faced', 'with', 'criticism', 'triggered', 'by', 'the', 'cali', 'cartel', 'surrender', 'process', 'the', 'prosecutor', 'general', 's', 'office', 'has', 'issued', 'a', 'communique', 'the', 'communique', 'from', 'the', 'prosecutor', 'general', 'contains', 'seven', 'specific', 'points', 'his', 'activities', 'have', 'been', 'directed', 'at', 'the', 'fight', 'against', 'all', 'manifestations', 'of', 'crime', 'the', 'destruction', 'of', 'the', 'medellin', 'cartel', 'was', 'due', 'to', 'constant', 'work', 'by', 'the', 'prosecutor', 'general', 's', 'office', 'number', 'as', 'heard', 'all', 'the', 'work', 'of', 'the', 'prosecutor', 'general', 's', 'office', 'has', 'been', 'carried', 'out', 'within', 'the', 'framework', 'of', 'the', 'penal', 'code', 'and', 'the', 'law', 'recently', 'reformed', 'by', 'congress', 'with', 'full', 'knowledge', 'of', 'the', 'government', 'the', 'specific', 'objective', 'of', 'the', 'criticism', 'regarding', 'the', 'spiritless', 'contribution', 'of', 'consumer', 'countries', 'to', 'the', 'fight', 'against', 'drug', 'trafficking', 'is', 'to', 'fight', 'that', 'illegal', 'activity', 'the', 'final', 'point', 'of', 'the', 'communique', 'notes', 'the', 'legalization', 'of', 'some', 'drugs', 'could', 'become', 'a', 'deadly', 'weapon', 'capable', 'of', 'depriving', 'drug', 'traffickers', 'of', 'profits', 'the', 'prosecutor', 'general', 'concluded', 'the', 'communique', 'by', 'stating', 'he', 'would', 'rather', 'die', 'than', 'live', 'in', 'a', 'country', 'where', 'criminals', 'can', 'decide', 'who', 'will', 'be', 'the', 'country', 's', 'government', 'officials', 'and', 'judges\\n']\n"
     ]
    }
   ],
   "source": [
    "# Example document\n",
    "print(text_corpus[\"FBIS3-11318\"])"
   ]
  },
  {
   "cell_type": "code",
   "execution_count": 3,
   "metadata": {},
   "outputs": [],
   "source": [
    "text_queries = []\n",
    "with open(\"data/queries.txt\") as f:\n",
    "    lines = ''.join(f.readlines())\n",
    "text_queries = [line.rstrip().split() for line in lines.split('\\n')[:-1]]"
   ]
  },
  {
   "cell_type": "code",
   "execution_count": 4,
   "metadata": {},
   "outputs": [
    {
     "name": "stdout",
     "output_type": "stream",
     "text": [
      "['301', 'international', 'organized', 'crime']\n"
     ]
    }
   ],
   "source": [
    "# Example query\n",
    "print(text_queries[0])"
   ]
  },
  {
   "cell_type": "markdown",
   "metadata": {},
   "source": [
    "## BM25 Calculation"
   ]
  },
  {
   "cell_type": "code",
   "execution_count": 8,
   "metadata": {},
   "outputs": [],
   "source": [
    "import math\n",
    "import numpy as np\n",
    "\n",
    "class BM25:\n",
    "    def __init__(self, corpus, k1=1.5, b=0.75, epsilon=0.25):\n",
    "        self.corpus_size = len(corpus)\n",
    "        self.avgdl = 0\n",
    "        self.doc_freqs = []\n",
    "        self.idf = {}\n",
    "        self.doc_len = []\n",
    "        \n",
    "        # Calc parameters\n",
    "        self.k1 = k1\n",
    "        self.b = b\n",
    "        self.epsilon = epsilon\n",
    "\n",
    "        nd = self._initialize(corpus)\n",
    "        self._calc_idf(nd)\n",
    "\n",
    "\n",
    "    def _initialize(self, corpus):\n",
    "        nd = {}\n",
    "        num_doc = 0\n",
    "        for document in corpus:\n",
    "            self.doc_len.append(len(document))\n",
    "            num_doc += len(document)\n",
    "\n",
    "            frequencies = {}\n",
    "            for word in document:\n",
    "                if word not in frequencies:\n",
    "                    frequencies[word] = 0\n",
    "                frequencies[word] += 1\n",
    "            self.doc_freqs.append(frequencies)\n",
    "\n",
    "            for word, freq in frequencies.items():\n",
    "                if word not in nd:\n",
    "                    nd[word] = 0\n",
    "                nd[word] += 1\n",
    "\n",
    "        self.avgdl = num_doc / self.corpus_size\n",
    "        return nd\n",
    "    \n",
    "    def _calc_idf(self, nd):\n",
    "        # collect idf sum to calculate an average idf for epsilon value\n",
    "        idf_sum = 0\n",
    "        # collect words with negative idf to set them a special epsilon value.\n",
    "        # idf can be negative if word is contained in more than half of documents\n",
    "        negative_idfs = []\n",
    "        for word, freq in nd.items():\n",
    "            idf = math.log(self.corpus_size - freq + 0.5) - math.log(freq + 0.5)\n",
    "            self.idf[word] = idf\n",
    "            idf_sum += idf\n",
    "            if idf < 0:\n",
    "                negative_idfs.append(word)\n",
    "        self.average_idf = idf_sum / len(self.idf)\n",
    "\n",
    "        eps = self.epsilon * self.average_idf\n",
    "        for word in negative_idfs:\n",
    "            self.idf[word] = eps\n",
    "\n",
    "    def get_scores(self, query):\n",
    "        score = np.zeros(self.corpus_size)\n",
    "        doc_len = np.array(self.doc_len)\n",
    "        for q in query:\n",
    "            q_freq = np.array([(doc.get(q) or 0) for doc in self.doc_freqs])\n",
    "            score += (self.idf.get(q) or 0) * (q_freq * (self.k1 + 1) /\n",
    "                                               (q_freq + self.k1 * (1 - self.b + self.b * doc_len / self.avgdl)))\n",
    "        return score"
   ]
  },
  {
   "cell_type": "markdown",
   "metadata": {},
   "source": [
    "## Running BM25"
   ]
  },
  {
   "cell_type": "code",
   "execution_count": 9,
   "metadata": {},
   "outputs": [],
   "source": [
    "bm25 = BM25(text_corpus.values())"
   ]
  },
  {
   "cell_type": "code",
   "execution_count": 10,
   "metadata": {},
   "outputs": [],
   "source": [
    "topic = text_queries[0][0]\n",
    "doc_scores = bm25.get_scores(text_queries[0][1:])"
   ]
  },
  {
   "cell_type": "code",
   "execution_count": 11,
   "metadata": {},
   "outputs": [
    {
     "data": {
      "text/plain": [
       "['international', 'organized', 'crime']"
      ]
     },
     "execution_count": 11,
     "metadata": {},
     "output_type": "execute_result"
    }
   ],
   "source": [
    "text_queries[0][1:]"
   ]
  },
  {
   "cell_type": "code",
   "execution_count": 12,
   "metadata": {},
   "outputs": [
    {
     "name": "stdout",
     "output_type": "stream",
     "text": [
      "('301', 'FBIS4-41991', 18.50459297775577)\n",
      "('302', 'FBIS4-67701', 37.802274284004476)\n",
      "('303', 'FT921-7107', 35.62332964986995)\n",
      "('304', 'FR940419-2-00009', 31.402554438878067)\n",
      "('305', 'LA112489-0003', 14.380538952839482)\n",
      "('306', 'FT921-13505', 19.769796389716703)\n",
      "('307', 'FBIS4-33622', 21.05319224961245)\n",
      "('308', 'LA070489-0051', 26.137889127694713)\n",
      "('309', 'LA090190-0055', 23.040548848799215)\n",
      "('310', 'FT931-11958', 37.44866841403548)\n",
      "('311', 'FT944-15440', 19.399126422497098)\n",
      "('312', 'FBIS4-67023', 12.216144829799484)\n",
      "('313', 'FBIS3-59655', 44.31177385782762)\n",
      "('314', 'FR941104-1-00033', 15.092100297277502)\n",
      "('315', 'FR940628-1-00073', 21.005182966866162)\n",
      "('316', 'FT932-4228', 17.096984424217453)\n",
      "('317', 'LA080889-0065', 18.58488534454721)\n",
      "('318', 'LA101890-0067', 15.016472624550534)\n",
      "('319', 'FBIS4-67889', 15.14589948644035)\n",
      "('320', 'FBIS4-25142', 38.929938795389546)\n",
      "('321', 'FBIS4-26295', 21.68415019488701)\n",
      "('322', 'FT944-8297', 12.99205728641839)\n",
      "('323', 'LA102689-0011', 23.962591963127537)\n",
      "('324', 'FBIS3-10552', 20.773313520566617)\n",
      "('325', 'LA071689-0122', 13.753842639790264)\n",
      "('326', 'FT941-6440', 18.443192175045134)\n",
      "('327', 'FT934-15250', 15.294524653348283)\n",
      "('328', 'FBIS3-13641', 14.034190710852336)\n",
      "('329', 'LA012289-0174', 22.659533194424185)\n",
      "('330', 'FBIS4-65419', 25.21862541964572)\n",
      "('331', 'FT924-12201', 14.839059930082005)\n",
      "('332', 'LA032290-0185', 23.249047446121295)\n",
      "('333', 'LA052190-0106', 31.590749033783343)\n",
      "('334', 'FT943-5307', 21.330393935875883)\n",
      "('335', 'LA070190-0096', 32.497252340473956)\n",
      "('336', 'LA071489-0030', 19.59285584252723)\n",
      "('337', 'FR940527-1-00166', 32.7031022012433)\n",
      "('338', 'FT941-11009', 31.480677643349704)\n",
      "('339', 'LA072489-0041', 35.492751546124104)\n",
      "('340', 'FT941-6884', 21.896897213053638)\n",
      "('341', 'FBIS4-1468', 12.852973334931118)\n",
      "('342', 'FBIS3-20368', 20.707668141366316)\n",
      "('343', 'FBIS3-60054', 16.08702215030231)\n",
      "('344', 'FT923-7706', 25.76497057624322)\n",
      "('345', 'FT922-12878', 19.272173203646382)\n",
      "('346', 'FBIS4-45112', 14.937213171759169)\n",
      "('347', 'FT934-9669', 20.911534791776134)\n",
      "('348', 'LA100689-0117', 14.951099917221454)\n",
      "('349', 'FR940405-1-00043', 16.14444014770905)\n",
      "('350', 'LA062390-0104', 28.727361305183514)\n",
      "('351', 'FT932-16710', 29.434538334040507)\n",
      "('352', 'FT943-904', 19.121073924090908)\n",
      "('353', 'FT911-558', 24.495749003366136)\n",
      "('354', 'FT934-15836', 13.652507837984992)\n",
      "('355', 'FBIS4-20436', 33.24497453769688)\n",
      "('356', 'LA111589-0004', 35.54171147075885)\n",
      "('357', 'FBIS3-36488', 24.653537131588898)\n",
      "('358', 'LA091689-0056', 26.976704058775095)\n",
      "('359', 'FBIS4-47379', 17.46674595066961)\n",
      "('360', 'FBIS4-45178', 22.011191423500925)\n",
      "('361', 'LA022890-0075', 25.384065747786707)\n",
      "('362', 'FBIS3-26071', 16.158409063212403)\n",
      "('363', 'LA070890-0174', 18.64098207199436)\n",
      "('364', 'FR941006-1-00006', 20.09054979063513)\n",
      "('365', 'FT921-10204', 26.136022019397576)\n",
      "('366', 'LA102990-0105', 21.519285384655944)\n",
      "('367', 'FT944-16684', 16.26444496182171)\n",
      "('368', 'LA120789-0015', 36.02701672015106)\n",
      "('369', 'LA082189-0039', 38.912078873931534)\n",
      "('370', 'FR940817-2-00216', 17.878319161730406)\n",
      "('371', 'FBIS3-11284', 15.621874397192279)\n",
      "('372', 'FT942-12298', 20.136230222116914)\n",
      "('373', 'FT933-10240', 25.90153526729157)\n",
      "('374', 'FT911-2323', 30.27758930102797)\n",
      "('375', 'FBIS4-20560', 20.35992360349233)\n",
      "('376', 'LA051989-0166', 8.677465265203907)\n",
      "('377', 'LA010590-0159', 27.529835131452735)\n",
      "('378', 'FT931-14163', 15.35355088884722)\n",
      "('379', 'LA110890-0003', 20.889257951401763)\n",
      "('380', 'LA052990-0096', 21.057457182912916)\n",
      "('381', 'FR940819-2-00077', 17.030310488152708)\n",
      "('382', 'FBIS4-44872', 26.84340396807307)\n",
      "('383', 'LA112790-0002', 24.009614870989957)\n",
      "('384', 'LA072189-0094', 26.42515774291669)\n",
      "('385', 'FT943-11934', 21.208042810482617)\n",
      "('386', 'LA103189-0028', 21.826744023530935)\n",
      "('387', 'FBIS4-64772', 21.700580021453924)\n",
      "('388', 'LA090990-0241', 20.64781421837206)\n",
      "('389', 'FT932-120', 14.913640106748698)\n",
      "('390', 'LA111090-0112', 24.087411045947558)\n",
      "('391', 'FT923-11708', 19.04594767565141)\n",
      "('392', 'FT933-4691', 16.789721998126254)\n",
      "('393', 'LA040989-0124', 17.802809104266213)\n",
      "('394', 'FBIS4-48922', 13.854740153833859)\n",
      "('395', 'FBIS3-21296', 11.241793408603503)\n",
      "('396', 'FT923-9638', 28.488602871079078)\n",
      "('397', 'LA020890-0157', 16.344864302559102)\n",
      "('398', 'FT943-1663', 26.797875423305868)\n",
      "('399', 'FR940916-0-00045', 20.74318699495614)\n",
      "('400', 'LA032590-0089', 34.4334275735257)\n",
      "('401', 'FT941-4506', 15.338068456767022)\n",
      "('402', 'LA101290-0115', 22.93581314177508)\n",
      "('403', 'LA030689-0082', 19.47123861312605)\n",
      "('404', 'FBIS4-14340', 20.48638695221732)\n",
      "('405', 'FBIS3-42549', 22.924510501574407)\n",
      "('406', 'LA051790-0095', 32.0974036688629)\n",
      "('407', 'LA050889-0063', 33.60823294140803)\n",
      "('408', 'LA101490-0142', 24.59226703085172)\n",
      "('409', 'LA040690-0069', 19.33492719727555)\n",
      "('410', 'FBIS4-64577', 23.423205812894075)\n",
      "('411', 'LA100189-0095', 17.95672949408133)\n",
      "('412', 'FBIS4-1468', 12.852973334931118)\n",
      "('413', 'FBIS4-27541', 14.651586661553207)\n",
      "('414', 'LA040590-0222', 27.07283821794625)\n",
      "('415', 'FBIS3-60083', 28.448216030352093)\n",
      "('416', 'FBIS4-66355', 26.2875153191792)\n",
      "('417', 'FBIS4-25449', 13.597837442234852)\n",
      "('418', 'LA102189-0167', 19.861367548296084)\n",
      "('419', 'LA040190-0174', 21.961610754238365)\n",
      "('420', 'LA121590-0108', 37.61386040299082)\n",
      "('421', 'FT933-4383', 21.520252031198464)\n",
      "('422', 'LA062890-0110', 22.84030090148811)\n",
      "('423', 'FT933-2528', 33.65313721349705)\n",
      "('424', 'FBIS3-24330', 15.753160322936516)\n",
      "('425', 'LA102189-0077', 19.6908603550105)\n",
      "('426', 'LA091490-0077', 20.838186374561516)\n",
      "('427', 'LA082089-0008', 30.009976417317205)\n",
      "('428', 'LA030990-0060', 18.71926226056176)\n",
      "('429', 'FR940202-2-00139', 29.888281981866896)\n",
      "('430', 'LA031389-0095', 31.8004158717781)\n",
      "('431', 'FT921-3682', 19.24596511681697)\n",
      "('432', 'FT941-11093', 19.07503633055645)\n",
      "('433', 'FT924-9527', 17.64739271474183)\n",
      "('434', 'FBIS3-36117', 16.01064809087666)\n",
      "('435', 'LA051590-0008', 18.483373425270198)\n",
      "('436', 'FT931-15371', 17.8045737815182)\n",
      "('437', 'FT942-3871', 20.543804332051838)\n",
      "('438', 'FBIS3-33309', 13.853039220032908)\n",
      "('439', 'LA030190-0200', 24.138796843034385)\n",
      "('440', 'LA031690-0183', 16.32773490496065)\n",
      "('441', 'LA092690-0153', 28.888046116074243)\n",
      "('442', 'LA121090-0007', 15.524935401310618)\n",
      "('443', 'LA042789-0136', 19.9815601822093)\n",
      "('444', 'FBIS4-45803', 30.174646737983966)\n",
      "('445', 'LA102790-0157', 20.85256728942568)\n",
      "('446', 'FBIS4-56591', 17.226520032999474)\n",
      "('447', 'LA060990-0066', 18.99053933370484)\n",
      "('448', 'FT921-12138', 14.39735446952664)\n",
      "('449', 'FBIS4-23025', 16.111756598848686)\n",
      "('450', 'LA020990-0117', 25.441791600683807)\n",
      "('601', 'FT943-6412', 23.67486191503493)\n",
      "('602', 'FT921-1623', 28.30527488884661)\n",
      "('603', 'FT924-9307', 29.761572937976545)\n",
      "('604', 'LA073090-0058', 45.418405218544095)\n",
      "('605', 'LA060489-0030', 21.28654579786187)\n",
      "('606', 'LA052489-0063', 32.64831963794867)\n",
      "('607', 'FT923-7735', 22.722156209302515)\n",
      "('608', 'FT924-6213', 19.993885793906564)\n",
      "('609', 'LA070690-0084', 28.81654547246237)\n",
      "('610', 'FR940204-2-00109', 23.359148966393747)\n",
      "('611', 'FBIS3-20083', 25.724529807040728)\n",
      "('612', 'LA030689-0004', 23.000764229971292)\n",
      "('613', 'LA112089-0031', 18.358263488837657)\n",
      "('614', 'FR941003-2-00006', 63.69887862129771)\n",
      "('615', 'FT941-289', 22.479604869293823)\n",
      "('616', 'FT944-6905', 18.46878797939726)\n",
      "('617', 'FT944-12369', 19.719218350439032)\n",
      "('618', 'LA060589-0062', 36.76507862132611)\n",
      "('619', 'LA022789-0050', 33.867160408165255)\n",
      "('620', 'FBIS4-64915', 22.14808411028106)\n",
      "('621', 'FT924-8156', 42.440017003162914)\n",
      "('622', 'LA042590-0148', 17.39123170094886)\n",
      "('623', 'FBIS3-21515', 24.091549757355775)\n",
      "('624', 'FT933-11260', 33.99041713374808)\n",
      "('625', 'FBIS4-21838', 31.102609373820933)\n",
      "('626', 'FBIS4-60291', 16.141059006274677)\n",
      "('627', 'FT921-16376', 16.711464147528005)\n",
      "('628', 'LA122289-0030', 39.14027787713072)\n",
      "('629', 'LA051090-0074', 26.014734622459454)\n",
      "('630', 'FBIS3-41804', 22.53035685209857)\n",
      "('631', 'FBIS4-25363', 26.851327290422475)\n",
      "('632', 'FT932-11184', 24.940889429176508)\n",
      "('633', 'FT921-6952', 24.782967747779708)\n",
      "('634', 'LA032390-0070', 33.42162555965729)\n",
      "('635', 'LA060690-0053', 21.892874498861886)\n",
      "('636', 'LA080190-0108', 18.833712100437673)\n",
      "('637', 'LA092189-0166', 36.77534494551783)\n",
      "('638', 'FT944-9035', 19.356976245741052)\n",
      "('639', 'FT944-14530', 22.917439469842734)\n"
     ]
    },
    {
     "name": "stdout",
     "output_type": "stream",
     "text": [
      "('640', 'FT931-8172', 26.2894494736206)\n",
      "('641', 'LA120989-0014', 29.24495311376587)\n",
      "('642', 'FBIS3-3664', 27.821347175699106)\n",
      "('643', 'FT943-6186', 29.168951750794868)\n",
      "('644', 'LA070190-0086', 22.285888471917865)\n",
      "('645', 'FT944-16684', 26.579627080835625)\n",
      "('646', 'LA041590-0171', 24.08434273027045)\n",
      "('647', 'FBIS4-47519', 19.406024589680282)\n",
      "('648', 'FR941202-0-00181', 15.919130158625375)\n",
      "('649', 'FT944-9024', 23.163291011301677)\n",
      "('650', 'LA102690-0100', 25.5789525059822)\n",
      "('651', 'LA070290-0060', 25.605861962307713)\n",
      "('652', 'FBIS4-54764', 26.610033659203626)\n",
      "('653', 'LA093090-0190', 35.42400410606862)\n",
      "('654', 'LA120789-0105', 19.315502176154318)\n",
      "('655', 'FR940106-1-00025', 20.607319133577818)\n",
      "('656', 'LA032590-0171', 25.05972412167151)\n",
      "('657', 'LA090389-0150', 25.21679585909343)\n",
      "('658', 'LA041890-0107', 22.12546083574931)\n",
      "('659', 'LA090990-0124', 19.566233193159682)\n",
      "('660', 'LA123189-0136', 28.206301071318542)\n",
      "('661', 'LA080190-0001', 25.614995650433958)\n",
      "('662', 'LA020790-0135', 9.555073845913228)\n",
      "('663', 'LA081090-0080', 24.853214079345744)\n",
      "('664', 'LA050989-0003', 24.617371951380726)\n",
      "('665', 'FT934-16727', 26.079230362003024)\n",
      "('666', 'FT934-13103', 19.267580695246124)\n",
      "('667', 'LA021590-0217', 25.802010055915066)\n",
      "('668', 'FBIS3-22474', 15.14021482130981)\n",
      "('669', 'FBIS3-33985', 19.285765513348757)\n",
      "('670', 'FT942-16427', 22.127440412638236)\n",
      "('671', 'LA072089-0025', 20.764229600861068)\n",
      "('672', 'LA061090-0218', 24.042257659961134)\n",
      "('673', 'LA011189-0094', 26.468484246592066)\n",
      "('674', 'FBIS4-4400', 15.382708099339869)\n",
      "('675', 'LA082389-0105', 26.22377777946994)\n",
      "('676', 'FBIS3-41153', 29.982072938720215)\n",
      "('677', 'FT922-6399', 44.77723598324408)\n",
      "('678', 'LA042089-0108', 17.84182537676076)\n",
      "('679', 'LA071490-0010', 18.38062572207484)\n",
      "('680', 'LA052090-0066', 19.725549835766966)\n",
      "('681', 'FBIS4-47519', 15.84239884097543)\n",
      "('682', 'FBIS4-29053', 20.58609911898995)\n",
      "('683', 'FBIS4-32410', 17.12823826144414)\n",
      "('684', 'LA102589-0032', 9.75849814122457)\n",
      "('685', 'LA032590-0070', 19.50397284946263)\n",
      "('686', 'FT922-7415', 22.39050929762822)\n",
      "('687', 'FT943-3201', 20.229065072647725)\n",
      "('688', 'FBIS4-11332', 24.60542991219547)\n",
      "('689', 'LA022390-0085', 16.891547251070868)\n",
      "('690', 'LA110789-0114', 15.971110809877871)\n",
      "('691', 'LA101890-0053', 23.40761726330419)\n",
      "('692', 'LA041089-0031', 33.19616362143371)\n",
      "('693', 'FT942-5098', 20.27175899152723)\n",
      "('694', 'LA041490-0090', 23.705819519496306)\n",
      "('695', 'LA050389-0097', 31.72419174081151)\n",
      "('696', 'LA100790-0250', 21.197173762249037)\n",
      "('697', 'LA052589-0118', 23.90747116796439)\n",
      "('698', 'FBIS4-47841', 19.293086436553164)\n",
      "('699', 'LA123190-0008', 13.381500088117903)\n",
      "('700', 'LA032690-0105', 23.71463543587198)\n"
     ]
    }
   ],
   "source": [
    "f = open('data/run.bm25.txt', 'a')\n",
    "for query in text_queries:\n",
    "    topic = query[0]\n",
    "    tokenized_query = query[1:]\n",
    "    doc_scores = bm25.get_scores(tokenized_query)\n",
    "    keys = list(text_corpus.keys())\n",
    "\n",
    "    topic_list = []\n",
    "    for item in range(len(doc_scores)):\n",
    "        topic_list.append((topic,keys[item],doc_scores[item]))\n",
    "    topic_list.sort(key=lambda tup: tup[2], reverse=True)\n",
    "    # filter out topics with relavance score 0\n",
    "    topics_list_filtered = [tup for tup in topic_list if tup[2] != 0]\n",
    "    for item in range(len(topics_list_filtered)):\n",
    "        (topic, docid, score) = topics_list_filtered[item]\n",
    "        print(topic,\" \",\"Q0\",\" \",docid,\" \",item+1,\" \",score,\" \",\"BM25\", file=f)   \n",
    "    print(topics_list_filtered[0])   \n",
    "f.close() \n"
   ]
  },
  {
   "cell_type": "markdown",
   "metadata": {},
   "source": [
    "## Extending Query BM25"
   ]
  },
  {
   "cell_type": "code",
   "execution_count": 13,
   "metadata": {},
   "outputs": [],
   "source": [
    "import gensim\n",
    "model = gensim.models.KeyedVectors.load_word2vec_format('data/GoogleNews-vectors-negative300.bin.gz', binary=True)"
   ]
  },
  {
   "cell_type": "code",
   "execution_count": null,
   "metadata": {},
   "outputs": [
    {
     "data": {
      "text/plain": [
       "[('transnational_organized', 0.565650224685669),\n",
       " ('Organised', 0.5449141263961792),\n",
       " ('el_Gweini', 0.5151761770248413),\n",
       " ('crimes', 0.5112009048461914)]"
      ]
     },
     "execution_count": 14,
     "metadata": {},
     "output_type": "execute_result"
    }
   ],
   "source": [
    "model.most_similar(positive=text_queries[0][1:],topn=4)"
   ]
  },
  {
   "cell_type": "markdown",
   "metadata": {},
   "source": [
    "### Centroid"
   ]
  },
  {
   "cell_type": "code",
   "execution_count": null,
   "metadata": {},
   "outputs": [],
   "source": [
    "# centroid aproach (taking average)\n",
    "f = open('data/expanded.centroid.queries.txt', 'a')\n",
    "for query in text_queries:\n",
    "    vectors = np.zeros(300)\n",
    "    for word in query[1:]:\n",
    "        if word in model.vocab:\n",
    "            vectors += model[word]\n",
    "    similar_words = model.similar_by_vector(vectors/len(query[1:]),topn=3)\n",
    "    expansion = \" \".join([ x[0] for x in similar_words ])\n",
    "    print(\" \".join(query),expansion, file=f)\n",
    "f.close()"
   ]
  },
  {
   "cell_type": "code",
   "execution_count": null,
   "metadata": {},
   "outputs": [],
   "source": [
    "expanded_queries = []\n",
    "with open(\"data/expanded.centroid.queries.txt\") as f:\n",
    "    lines = ''.join(f.readlines())\n",
    "expanded_queries = [line.rstrip().split() for line in lines.split('\\n')[:-1]]"
   ]
  },
  {
   "cell_type": "code",
   "execution_count": null,
   "metadata": {},
   "outputs": [
    {
     "name": "stdout",
     "output_type": "stream",
     "text": [
      "('301', 'FBIS4-18122', 35.45937763206223)\n",
      "('302', 'FBIS4-67701', 68.81975756051388)\n",
      "('303', 'FT921-7107', 77.15575738076538)\n",
      "('304', 'FR940617-0-00103', 53.37472021960415)\n",
      "('305', 'LA113089-0027', 30.343961685514365)\n",
      "('306', 'FT921-13505', 39.539592779433406)\n",
      "('307', 'FBIS4-33116', 43.41750447047306)\n",
      "('308', 'LA070489-0051', 67.3745070334407)\n",
      "('309', 'LA090190-0055', 39.52033769478694)\n",
      "('310', 'FT931-11958', 64.23601632777786)\n",
      "('311', 'FBIS4-19393', 48.08824677745489)\n",
      "('312', 'LA040289-0050', 37.329566327515515)\n",
      "('313', 'FBIS3-59655', 76.3244558706656)\n",
      "('314', 'FBIS3-22391', 35.301520392583654)\n",
      "('315', 'LA092789-0116', 37.31830258761538)\n",
      "('316', 'FT932-4228', 34.193968848434906)\n",
      "('317', 'LA080889-0065', 37.16977068909442)\n",
      "('318', 'LA101890-0067', 35.876710139064656)\n",
      "('319', 'FBIS4-46063', 36.23823813415579)\n",
      "('320', 'FBIS4-20427', 61.733618261607674)\n",
      "('321', 'FBIS4-26295', 37.42402339751883)\n",
      "('322', 'FT944-8297', 25.98411457283678)\n",
      "('323', 'LA102689-0011', 47.92518392625508)\n",
      "('324', 'FBIS3-10552', 41.546627041133235)\n",
      "('325', 'LA012290-0067', 30.529622319408283)\n",
      "('326', 'FT933-1606', 38.51885103585149)\n",
      "('327', 'FT934-15250', 30.589049306696566)\n",
      "('328', 'LA090790-0036', 40.81888735367668)\n",
      "('329', 'LA012289-0174', 40.39630233262679)\n",
      "('330', 'FBIS4-37040', 47.35057463815113)\n",
      "('331', 'FT931-266', 25.805241501287288)\n",
      "('332', 'LA032290-0185', 39.456634256593965)\n",
      "('333', 'FR940523-0-00045', 62.6795827508816)\n",
      "('334', 'FR940727-2-00005', 72.30646659955708)\n",
      "('335', 'LA070190-0096', 56.41945314283835)\n",
      "('336', 'LA071489-0030', 39.18571168505446)\n",
      "('337', 'FR940527-1-00166', 65.4062044024866)\n",
      "('338', 'FT941-11009', 49.76685282771691)\n",
      "('339', 'LA072489-0041', 64.55945958889606)\n",
      "('340', 'FT941-6884', 43.793794426107276)\n",
      "('341', 'FT941-4175', 34.463096760307224)\n",
      "('342', 'LA052389-0100', 47.2989141405649)\n",
      "('343', 'LA112390-0082', 37.28678654800732)\n",
      "('344', 'FT923-7706', 45.177882599185274)\n",
      "('345', 'FT922-12878', 38.544346407292764)\n",
      "('346', 'FR940124-1-00051', 38.02717357034625)\n",
      "('347', 'FT934-9669', 41.82306958355227)\n",
      "('348', 'LA100689-0117', 29.902199834442907)\n",
      "('349', 'LA080890-0068', 44.526957297041776)\n",
      "('350', 'LA052290-0188', 50.08418272114723)\n"
     ]
    }
   ],
   "source": [
    "f = open('data/run.expanded.centroid.bm25.txt', 'a')\n",
    "for query in expanded_queries:\n",
    "    topic = query[0]\n",
    "    tokenized_query = query[1:]\n",
    "    doc_scores = bm25.get_scores(tokenized_query)\n",
    "    keys = list(text_corpus.keys())\n",
    "\n",
    "    topic_list = []\n",
    "    for item in range(len(doc_scores)):\n",
    "        topic_list.append((topic,keys[item],doc_scores[item]))\n",
    "    topic_list.sort(key=lambda tup: tup[2], reverse=True)\n",
    "    # filter out topics with relavance score 0\n",
    "    topics_list_filtered = [tup for tup in topic_list if tup[2] != 0]\n",
    "    for item in range(len(topics_list_filtered)):\n",
    "        (topic, docid, score) = topics_list_filtered[item]\n",
    "        print(topic,\" \",\"Q0\",\" \",docid,\" \",item+1,\" \",score,\" \",\"BM25+QE\", file=f)   \n",
    "    print(topics_list_filtered[0])   \n",
    "f.close()"
   ]
  },
  {
   "cell_type": "markdown",
   "metadata": {},
   "source": [
    "### Fusion-based"
   ]
  },
  {
   "cell_type": "code",
   "execution_count": null,
   "metadata": {},
   "outputs": [],
   "source": [
    "# fusion aproach (taking average)\n",
    "f = open('data/expanded.fusion.queries.txt', 'a')\n",
    "for query in text_queries:\n",
    "    expanding_words = []\n",
    "    for word in query[1:]:\n",
    "        if word in model.vocab:\n",
    "            expanding_words.append(model.similar_by_word(word,topn=1))\n",
    "    expanding_words = sum(expanding_words, [])\n",
    "    expansion = \" \".join([ x[0] for x in expanding_words ])\n",
    "    print(\" \".join(query),expansion, file=f)\n",
    "f.close()"
   ]
  },
  {
   "cell_type": "code",
   "execution_count": null,
   "metadata": {},
   "outputs": [],
   "source": [
    "expanded_queries = []\n",
    "with open(\"data/expanded.fusion.queries.txt\") as f:\n",
    "    lines = ''.join(f.readlines())\n",
    "expanded_queries = [line.rstrip().split() for line in lines.split('\\n')[:-1]]"
   ]
  },
  {
   "cell_type": "code",
   "execution_count": null,
   "metadata": {},
   "outputs": [],
   "source": [
    "f = open('data/run.expanded.fusion.bm25.txt', 'a')\n",
    "for query in expanded_queries:\n",
    "    topic = query[0]\n",
    "    tokenized_query = query[1:]\n",
    "    doc_scores = bm25.get_scores(tokenized_query)\n",
    "    keys = list(text_corpus.keys())\n",
    "\n",
    "    topic_list = []\n",
    "    for item in range(len(doc_scores)):\n",
    "        topic_list.append((topic,keys[item],doc_scores[item]))\n",
    "    topic_list.sort(key=lambda tup: tup[2], reverse=True)\n",
    "    # filter out topics with relavance score 0\n",
    "    topics_list_filtered = [tup for tup in topic_list if tup[2] != 0]\n",
    "    for item in range(len(topics_list_filtered)):\n",
    "        (topic, docid, score) = topics_list_filtered[item]\n",
    "        print(topic,\" \",\"Q0\",\" \",docid,\" \",item+1,\" \",score,\" \",\"BM25+QE\", file=f)   \n",
    "    print(topics_list_filtered[0])   \n",
    "f.close()"
   ]
  },
  {
   "cell_type": "markdown",
   "metadata": {},
   "source": [
    "## BM25 word embeddings"
   ]
  },
  {
   "cell_type": "code",
   "execution_count": null,
   "metadata": {},
   "outputs": [],
   "source": [
    "# Extension of BM25 Class, WIP\n",
    "class BM25WE(BM25):\n",
    "    def __init__(self, corpus):\n",
    "        super().__init__(corpus)\n",
    "        \n",
    "    def get_scores(self, query):\n",
    "        score = np.zeros(self.corpus_size)\n",
    "        doc_len = np.array(self.doc_len)\n",
    "        for q in query:\n",
    "            q_freq = np.array([(doc.get(q) or 0) for doc in self.doc_freqs])\n",
    "            score += (self.idf.get(q) or 0) * (q_freq * (self.k1 + 1) /\n",
    "                                               (q_freq + self.k1 * (1 - self.b + self.b * doc_len / self.avgdl)))\n",
    "        return score"
   ]
  },
  {
   "cell_type": "code",
   "execution_count": null,
   "metadata": {},
   "outputs": [],
   "source": []
  }
 ],
 "metadata": {
  "kernelspec": {
   "display_name": "Python 3",
   "language": "python",
   "name": "python3"
  },
  "language_info": {
   "codemirror_mode": {
    "name": "ipython",
    "version": 3
   },
   "file_extension": ".py",
   "mimetype": "text/x-python",
   "name": "python",
   "nbconvert_exporter": "python",
   "pygments_lexer": "ipython3",
   "version": "3.7.2"
  }
 },
 "nbformat": 4,
 "nbformat_minor": 2
}
