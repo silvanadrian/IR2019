{
 "cells": [
  {
   "cell_type": "markdown",
   "metadata": {},
   "source": [
    "# Word Embeddings for Text Classification\n",
    "We start be loading the Word2Vec word embeddings"
   ]
  },
  {
   "cell_type": "code",
   "execution_count": 1,
   "metadata": {},
   "outputs": [],
   "source": [
    "#To Do (Possibel that this cell should be deleted)\n",
    "import gensim\n",
    "model = gensim.models.KeyedVectors.load_word2vec_format('GoogleNews-vectors-negative300.bin', binary=True)"
   ]
  },
  {
   "cell_type": "markdown",
   "metadata": {},
   "source": [
    "## Preprocessing data\n",
    "Below we process the movie review data"
   ]
  },
  {
   "cell_type": "code",
   "execution_count": 2,
   "metadata": {},
   "outputs": [
    {
     "name": "stdout",
     "output_type": "stream",
     "text": [
      "Getting Contents From Training Files\n",
      "Getting Contents From Test Files\n"
     ]
    }
   ],
   "source": [
    "from os import listdir\n",
    "folder = \"aclImdb/\"\n",
    "test_folder = \"test/\"\n",
    "train_folder = \"train/\"\n",
    "neg_folder = \"neg/\"\n",
    "pos_folder = \"pos/\"\n",
    "print(\"Getting Contents From Training Files\")\n",
    "path = folder + train_folder + pos_folder\n",
    "pro_train  = [open(path + f, 'r').read().split() for f in listdir(path)]\n",
    "path = folder + train_folder + neg_folder\n",
    "neg_train  = [open(path + f, 'r').read().split() for f in listdir(path)]\n",
    "print(\"Getting Contents From Test Files\")\n",
    "path = folder + test_folder + pos_folder\n",
    "profile = listdir(path)\n",
    "pro_test  = [open(path + f, 'r').read().split() for f in listdir(path)]\n",
    "path = folder + test_folder + neg_folder\n",
    "negfile = listdir(path)\n",
    "neg_test  = [open(path + f, 'r').read().split() for f in listdir(path)]"
   ]
  },
  {
   "cell_type": "markdown",
   "metadata": {},
   "source": [
    "## Embedding the Documents\n",
    "We now need to get the average embeddings of each review so that we can train our model on a vector respresentation of the documents"
   ]
  },
  {
   "cell_type": "code",
   "execution_count": 3,
   "metadata": {},
   "outputs": [],
   "source": [
    "import numpy as np\n",
    "def averageEmbedding(review):\n",
    "    return np.sum([model.get_vector(w) for w in review if w in model.vocab], axis = 0) / len(review)\n",
    "\n",
    "def getAllEmbeddings(reviews):\n",
    "    return [averageEmbedding(r) for r in reviews]\n",
    "\n",
    "pro_train_embedded = getAllEmbeddings(pro_train)\n",
    "pro_test_embedded = getAllEmbeddings(pro_test)\n",
    "neg_train_embedded = getAllEmbeddings(neg_train)\n",
    "neg_test_embedded = getAllEmbeddings(neg_test)\n"
   ]
  },
  {
   "cell_type": "markdown",
   "metadata": {},
   "source": [
    "## Training A Classifier\n",
    "Now that we have embedding for each review we can train a classifier.\n"
   ]
  },
  {
   "cell_type": "code",
   "execution_count": 5,
   "metadata": {},
   "outputs": [
    {
     "name": "stdout",
     "output_type": "stream",
     "text": [
      "Training random_forest\n",
      "random_forest 0.72\n",
      "random_forest 0.7185278493113783\n",
      "Training sgd\n",
      "sgd 0.81916\n",
      "sgd 0.8191341286563776\n"
     ]
    }
   ],
   "source": [
    "import warnings\n",
    "warnings.simplefilter(action='ignore', category=FutureWarning)\n",
    "from sklearn.linear_model import SGDClassifier\n",
    "from sklearn.naive_bayes import MultinomialNB\n",
    "from sklearn.metrics import f1_score\n",
    "from sklearn.ensemble import RandomForestClassifier\n",
    "Train = np.concatenate((pro_train_embedded, neg_train_embedded))\n",
    "Test = np.concatenate((pro_test_embedded, neg_test_embedded))\n",
    "train_labels = [0 for i in range(12500)] + [1 for i in range(12500)]\n",
    "test_labels = [0 for i in range(12500)] + [1 for i in range(12500)]\n",
    "classifiers = {'random_forest': RandomForestClassifier(),\n",
    "               'sgd': SGDClassifier(loss='hinge')}\n",
    "\n",
    "for name, model in classifiers.items():\n",
    "    print(\"Training \" + name)\n",
    "    model.fit(Train, train_labels)\n",
    "    predictions = model.predict(Test)\n",
    "    print(name, f1_score(predictions, test_labels, average=\"micro\"))\n",
    "    print(name, f1_score(predictions, test_labels, average=\"macro\"))\n"
   ]
  },
  {
   "cell_type": "markdown",
   "metadata": {},
   "source": [
    "## Conclusion\n",
    "We get a Test Accuracy of  **0.8152** when using linear SVMs for classifying sentiments of reviews using their average word2vec Embedding."
   ]
  },
  {
   "cell_type": "code",
   "execution_count": null,
   "metadata": {},
   "outputs": [],
   "source": []
  }
 ],
 "metadata": {
  "kernelspec": {
   "display_name": "Python 3",
   "language": "python",
   "name": "python3"
  },
  "language_info": {
   "codemirror_mode": {
    "name": "ipython",
    "version": 3
   },
   "file_extension": ".py",
   "mimetype": "text/x-python",
   "name": "python",
   "nbconvert_exporter": "python",
   "pygments_lexer": "ipython3",
   "version": "3.7.3"
  }
 },
 "nbformat": 4,
 "nbformat_minor": 2
}
