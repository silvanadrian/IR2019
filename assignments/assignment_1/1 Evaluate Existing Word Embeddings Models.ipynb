{
 "cells": [
  {
   "cell_type": "markdown",
   "metadata": {},
   "source": [
    "# Find neighbor words"
   ]
  },
  {
   "cell_type": "code",
   "execution_count": 2,
   "metadata": {},
   "outputs": [],
   "source": [
    "import gensim\n",
    "import pandas as pd\n",
    "import numpy as np\n",
    "import matplotlib.pyplot as plt\n",
    "from scipy.spatial import distance\n",
    "from sklearn.metrics import accuracy_score"
   ]
  },
  {
   "cell_type": "code",
   "execution_count": 3,
   "metadata": {},
   "outputs": [],
   "source": [
    "model = gensim.models.KeyedVectors.load_word2vec_format('data/GoogleNews-vectors-negative300.bin.gz', binary=True)"
   ]
  },
  {
   "cell_type": "code",
   "execution_count": 4,
   "metadata": {},
   "outputs": [
    {
     "name": "stdout",
     "output_type": "stream",
     "text": [
      "King:\n",
      "                      0         1\n",
      "0               Jackson  0.532635\n",
      "1                Prince  0.530633\n",
      "2              Tupou_V.  0.529283\n",
      "3                  KIng  0.522750\n",
      "4  e_mail_robert.king_@  0.517362\n",
      "London:\n",
      "                                  0         1\n",
      "0  EURASIAN_NATURAL_RESOURCES_CORP.  0.673970\n",
      "1                           Londons  0.653613\n",
      "2              Islamabad_Slyvia_Hui  0.637556\n",
      "3                        Wandsworth  0.613382\n",
      "4                      Canary_Wharf  0.611928\n",
      "Good:\n",
      "                            0         1\n",
      "0                         Bad  0.617220\n",
      "1                        good  0.558616\n",
      "2                      Decent  0.516819\n",
      "3                      Better  0.503792\n",
      "4  LAKE_WYLIE_Largemouth_Bass  0.500470\n",
      "Apple:\n",
      "                   0         1\n",
      "0         Apple_AAPL  0.745699\n",
      "1  Apple_Nasdaq_AAPL  0.730041\n",
      "2  Apple_NASDAQ_AAPL  0.717509\n",
      "3     Apple_Computer  0.714597\n",
      "4             iPhone  0.692427\n"
     ]
    }
   ],
   "source": [
    "# most similar only uses cosine similarity, therfore not totally perfect as wanted in the assignment\n",
    "print('King:')\n",
    "print(pd.DataFrame(model.similar_by_word('King', topn=5)))\n",
    "print('London:')\n",
    "print(pd.DataFrame(model.similar_by_word('London', topn=5)))\n",
    "print('Good:')\n",
    "print(pd.DataFrame(model.similar_by_word('Good', topn=5)))\n",
    "print('Apple:')\n",
    "print(pd.DataFrame(model.similar_by_word('Apple', topn=5)))"
   ]
  },
  {
   "cell_type": "code",
   "execution_count": 5,
   "metadata": {},
   "outputs": [],
   "source": [
    "def euclidean_distance(v1,v2):\n",
    "    return distance.euclidean(v1,v2)\n",
    "\n",
    "distances = []\n",
    "for vector in model.vectors:\n",
    "    distances.append({'word': vector, \n",
    "                      'king_score' : euclidean_distance(model['King'],vector),\n",
    "                      'london_score' : euclidean_distance(model['London'],vector),\n",
    "                      'good_score' : euclidean_distance(model['Good'],vector),\n",
    "                      'apple_score' : euclidean_distance(model['Apple'],vector)\n",
    "                     })"
   ]
  },
  {
   "cell_type": "code",
   "execution_count": 6,
   "metadata": {},
   "outputs": [
    {
     "name": "stdout",
     "output_type": "stream",
     "text": [
      "King:\n",
      "Tupou_V. 1.9726125001907349\n",
      "e_mail_robert.king_@ 2.014012098312378\n",
      "Singer_songwriter_Carole 2.0307531356811523\n",
      "Geoffrey_Rush_Exit 2.0331478118896484\n",
      "KIng 2.0411529541015625\n",
      "London:\n",
      "EURASIAN_NATURAL_RESOURCES_CORP. 2.0974204540252686\n",
      "Sarah_Hills_FoodBizDaily.com 2.166471242904663\n",
      "o2_arena 2.191667079925537\n",
      "Cricklewood_north 2.198361396789551\n",
      "Canary_Warf 2.202068567276001\n",
      "Good:\n",
      "good 2.4779608249664307\n",
      "LAKE_WYLIE_Largemouth_Bass 2.5142698287963867\n",
      "Reprint_Practices 2.567570209503174\n",
      "Harm_Than 2.5735108852386475\n",
      "LAKE_HARTWELL_Largemouth_Bass 2.586975336074829\n",
      "Apple:\n",
      "Apple_Nasdaq_AAPL 2.404542922973633\n",
      "AAPL_PriceWatch_Alert 2.4422295093536377\n",
      "Apple_AAPL 2.4825079441070557\n",
      "RIM_NSDQ_RIMM 2.5051934719085693\n",
      "NASDAQ_AAPL_iPhone 2.5330886840820312\n"
     ]
    }
   ],
   "source": [
    "scores = ['king_score','london_score','good_score','apple_score']\n",
    "titles = ['King:','London:','Good:','Apple:']\n",
    "count = 0\n",
    "for score in scores:\n",
    "    london_words = sorted(distances, key=lambda k: k[score])\n",
    "    print(titles[count])\n",
    "    count += 1\n",
    "    #skip the first word sicne will be the same\n",
    "    for scores in london_words[1:6]:\n",
    "        [(word,_)] = model.most_similar(positive=[scores.get('word')],topn=1)\n",
    "        print(word, scores.get(score))"
   ]
  },
  {
   "cell_type": "code",
   "execution_count": 10,
   "metadata": {},
   "outputs": [
    {
     "data": {
      "image/png": "[encoded data removed]",
      "text/plain": [
       "<matplotlib.figure.Figure at 0x28f048ac8>"
      ]
     },
     "metadata": {
      "needs_background": "light"
     },
     "output_type": "display_data"
    }
   ],
   "source": [
    "fig = plt.gcf()\n",
    "arrowprops=dict(arrowstyle='-', color='blue')\n",
    "textcoords=\"offset points\"\n",
    "\n",
    "U, s, Vh = np.linalg.svd(model.vectors[:500], full_matrices = False)\n",
    "V = U.T\n",
    "plt.scatter(V[0], V[1], c='green', s = 3)\n",
    "plt.title(\"SVD Word2Vec\")\n",
    "# numbers\n",
    "# reduced the dimensions to 2\n",
    "plt.xlabel('X dimension')\n",
    "plt.ylabel('Y dimension')\n",
    "plt.annotate(model.index2word[381], xy=(V[0,381], V[1,381]),xytext=(-60,10),textcoords=textcoords,arrowprops=arrowprops)\n",
    "plt.annotate(model.index2word[200], xy=(V[0,200], V[1,200]),xytext=(30,10),textcoords=textcoords,arrowprops=arrowprops)\n",
    "# Countries\n",
    "plt.annotate(model.index2word[367], xy=(V[0,367], V[1,367]),xytext=(30,10),textcoords=textcoords,arrowprops=arrowprops)\n",
    "plt.annotate(model.index2word[409], xy=(V[0,409], V[1,409]),xytext=(50,40),textcoords=textcoords,arrowprops=arrowprops)\n",
    "plt.show()\n",
    "fig.savefig('svd_plot.png',dpi=300)"
   ]
  },
  {
   "cell_type": "markdown",
   "metadata": {},
   "source": [
    "# Main Task"
   ]
  },
  {
   "cell_type": "code",
   "execution_count": 7,
   "metadata": {},
   "outputs": [],
   "source": [
    "with open('data/questions-words.txt') as f:\n",
    "    content = f.readlines()"
   ]
  },
  {
   "cell_type": "code",
   "execution_count": 8,
   "metadata": {},
   "outputs": [
    {
     "data": {
      "text/plain": [
       "[('Iraqi', 0.6351870894432068),\n",
       " ('Mosul', 0.6185438632965088),\n",
       " ('Iraq', 0.604138195514679),\n",
       " ('Sunni_Arab', 0.5862730145454407),\n",
       " ('Iraqis', 0.5799270868301392),\n",
       " ('Anbar', 0.5743235349655151),\n",
       " ('Samarra', 0.5673612356185913),\n",
       " ('Shiite', 0.5598145723342896),\n",
       " ('Diyala_province', 0.5576438307762146),\n",
       " ('Kirkuk', 0.5559762716293335)]"
      ]
     },
     "execution_count": 8,
     "metadata": {},
     "output_type": "execute_result"
    }
   ],
   "source": [
    "# Example subtract\n",
    "model.most_similar(positive=['Baghdad', 'Greece'], negative=['Athens'])"
   ]
  },
  {
   "cell_type": "code",
   "execution_count": 9,
   "metadata": {},
   "outputs": [
    {
     "name": "stdout",
     "output_type": "stream",
     "text": [
      "10675\n",
      "10675\n",
      "8869\n",
      "8869\n"
     ]
    }
   ],
   "source": [
    "# Read text file, remove last item\n",
    "expected_syn = []\n",
    "predict_syn = []\n",
    "expected_sem = []\n",
    "predict_sem = []\n",
    "syntax = False\n",
    "semantics = False\n",
    "for line in content:\n",
    "    splited_line = line.rstrip().split(' ')\n",
    "    predict_line = line.rstrip().split(' ')[:-1]\n",
    "    if (line.startswith( ': gram' ) or syntax == True):\n",
    "        syntax = True\n",
    "        semantics = False\n",
    "        if not line.startswith( ':' ):\n",
    "            expected_syn.append(splited_line)\n",
    "            predict_syn.append(predict_line)\n",
    "    elif (line.startswith( ':' ) or semantics == True):\n",
    "        semantics = True\n",
    "        syntax = False\n",
    "        if not line.startswith( ':' ):\n",
    "            expected_sem.append(splited_line)\n",
    "            predict_sem.append(predict_line)\n",
    "\n",
    "print(len(expected_syn))\n",
    "print(len(predict_syn))\n",
    "print(len(expected_sem))\n",
    "print(len(predict_sem))"
   ]
  },
  {
   "cell_type": "code",
   "execution_count": 10,
   "metadata": {},
   "outputs": [],
   "source": [
    "def get_labels(predicted, expected):\n",
    "    labels = np.zeros(len(predicted))\n",
    "    for index in range(len(predicted)):\n",
    "        first_word = predicted[index][0]\n",
    "        second_word = predicted[index][1]\n",
    "        third_word = predicted[index][2]\n",
    "        # Calulcate the 4th word by taking third, second word positive and first negative\n",
    "        [(word, similarity)] = model.most_similar(positive=[third_word, second_word], negative=[first_word],topn=1)\n",
    "        # if line already has been predicted append otherwise skip\n",
    "        if len(predicted[index]) < 4:\n",
    "            predicted[index].append(word.rstrip())\n",
    "        # To see at least the progress of the process\n",
    "        if index % 1000 == 0:\n",
    "            print(\"Amount of processed:\",index)\n",
    "        # if the prediction is equal to what we exepect set label to 1 otherwise 0\n",
    "        if predicted[index] == expected[index]:\n",
    "            labels[index]= 1\n",
    "        else:\n",
    "            labels[index]= 0\n",
    "    return labels"
   ]
  },
  {
   "cell_type": "code",
   "execution_count": 11,
   "metadata": {},
   "outputs": [
    {
     "name": "stdout",
     "output_type": "stream",
     "text": [
      "Amount of processed: 0\n",
      "Amount of processed: 1000\n",
      "Amount of processed: 2000\n",
      "Amount of processed: 3000\n",
      "Amount of processed: 4000\n",
      "Amount of processed: 5000\n",
      "Amount of processed: 6000\n",
      "Amount of processed: 7000\n",
      "Amount of processed: 8000\n",
      "Amount of processed: 9000\n",
      "Amount of processed: 10000\n"
     ]
    }
   ],
   "source": [
    "labels_syn = get_labels(predict_syn,expected_syn)"
   ]
  },
  {
   "cell_type": "code",
   "execution_count": 12,
   "metadata": {},
   "outputs": [
    {
     "name": "stdout",
     "output_type": "stream",
     "text": [
      "Amount of processed: 0\n",
      "Amount of processed: 1000\n",
      "Amount of processed: 2000\n",
      "Amount of processed: 3000\n",
      "Amount of processed: 4000\n",
      "Amount of processed: 5000\n",
      "Amount of processed: 6000\n",
      "Amount of processed: 7000\n",
      "Amount of processed: 8000\n"
     ]
    }
   ],
   "source": [
    "labels_sem = get_labels(predict_sem,expected_sem)"
   ]
  },
  {
   "cell_type": "code",
   "execution_count": 13,
   "metadata": {},
   "outputs": [
    {
     "data": {
      "text/plain": [
       "0.7400468384074942"
      ]
     },
     "execution_count": 13,
     "metadata": {},
     "output_type": "execute_result"
    }
   ],
   "source": [
    "# Accuracy Syntax\n",
    "accuracy_score(np.ones(len(expected_syn)),labels_syn)"
   ]
  },
  {
   "cell_type": "code",
   "execution_count": 14,
   "metadata": {},
   "outputs": [
    {
     "data": {
      "text/plain": [
       "0.7308602999210734"
      ]
     },
     "execution_count": 14,
     "metadata": {},
     "output_type": "execute_result"
    }
   ],
   "source": [
    "# Accuracy Semantics\n",
    "accuracy_score(np.ones(len(expected_sem)),labels_sem)"
   ]
  },
  {
   "cell_type": "code",
   "execution_count": 15,
   "metadata": {},
   "outputs": [
    {
     "data": {
      "text/plain": [
       "0.7358780188293083"
      ]
     },
     "execution_count": 15,
     "metadata": {},
     "output_type": "execute_result"
    }
   ],
   "source": [
    "# Overall accuracy\n",
    "all_labels = np.ones(len(expected_syn) + len(expected_sem))\n",
    "accuracy_score(all_labels,np.append(labels_syn,labels_sem))"
   ]
  },
  {
   "cell_type": "code",
   "execution_count": null,
   "metadata": {},
   "outputs": [],
   "source": []
  }
 ],
 "metadata": {
  "kernelspec": {
   "display_name": "Python 3",
   "language": "python",
   "name": "python3"
  },
  "language_info": {
   "codemirror_mode": {
    "name": "ipython",
    "version": 3
   },
   "file_extension": ".py",
   "mimetype": "text/x-python",
   "name": "python",
   "nbconvert_exporter": "python",
   "pygments_lexer": "ipython3",
   "version": "3.7.2"
  }
 },
 "nbformat": 4,
 "nbformat_minor": 2
}
