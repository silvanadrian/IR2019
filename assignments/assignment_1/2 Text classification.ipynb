{
 "cells": [
  {
   "cell_type": "markdown",
   "metadata": {},
   "source": [
    "# Word Embeddings for Text Classification"
   ]
  },
  {
   "cell_type": "code",
   "execution_count": 1,
   "metadata": {},
   "outputs": [],
   "source": [
    "import pandas as pd\n",
    "import os\n",
    "import numpy as np\n",
    "import nltk\n",
    "from nltk.corpus import stopwords\n",
    "import gensim\n",
    "from sklearn.ensemble import AdaBoostClassifier\n",
    "from sklearn.metrics import accuracy_score\n",
    "from sklearn.utils import shuffle"
   ]
  },
  {
   "cell_type": "code",
   "execution_count": 2,
   "metadata": {},
   "outputs": [],
   "source": [
    "def read_data(file_path,output_path):\n",
    "    labels = {'pos': 1, 'neg': 0}\n",
    "    data = pd.DataFrame()\n",
    "    for l in ('pos', 'neg'):\n",
    "        path = os.path.join(file_path, l)\n",
    "        for file in os.listdir (path) :\n",
    "            with open(os.path.join(path, file),'r', encoding='utf-8') as infile:\n",
    "                txt = infile.read()\n",
    "            data = data.append([[txt, labels[l]]],ignore_index=True)\n",
    "    data.columns = ['review', 'sentiment']\n",
    "    data = shuffle(data)\n",
    "    data.to_csv(output_path, sep=',', encoding='utf-8', index=False)"
   ]
  },
  {
   "cell_type": "code",
   "execution_count": 3,
   "metadata": {},
   "outputs": [],
   "source": [
    "# Get train data\n",
    "read_data('data/aclImdb/train/','data/train_data.csv')"
   ]
  },
  {
   "cell_type": "code",
   "execution_count": 4,
   "metadata": {},
   "outputs": [],
   "source": [
    "# Get test data\n",
    "read_data('data/aclImdb/test/','data/test_data.csv')"
   ]
  },
  {
   "cell_type": "code",
   "execution_count": 5,
   "metadata": {},
   "outputs": [
    {
     "name": "stdout",
     "output_type": "stream",
     "text": [
      "0    <br /><br />The movie starts out as an ordinar...\n",
      "1    This is the kind of movie that wants to be goo...\n",
      "2    This movie is a perfect example of a film that...\n",
      "3    Trying to compare or represent this \"swill\" as...\n",
      "4    On the basis of the preview I'd seen, I went t...\n",
      "Name: review, dtype: object\n",
      "0    What can be said of this independent effort be...\n",
      "1    Alright, how someone can actually think this m...\n",
      "2    An extremely dark and brooding show with an ex...\n",
      "3    It's the 1980's and the teenagers are ready to...\n",
      "4    Jack Frost 2. THE worst \"horror film\" I have e...\n",
      "Name: review, dtype: object\n"
     ]
    }
   ],
   "source": [
    "train_data = pd.read_csv('data/train_data.csv', sep=',', encoding='utf-8', header=0)\n",
    "test_data = pd.read_csv('data/test_data.csv', sep=',', encoding='utf-8', header=0)\n",
    "\n",
    "print(train_data['review'].head())\n",
    "print(test_data['review'].head())"
   ]
  },
  {
   "cell_type": "code",
   "execution_count": 6,
   "metadata": {},
   "outputs": [],
   "source": [
    "# take smaller sample for faster runtime\n",
    "train_data = train_data.sample(n=5000,replace=True)\n",
    "test_data = test_data.sample(n=1000,replace=True)"
   ]
  },
  {
   "cell_type": "markdown",
   "metadata": {},
   "source": [
    "## Pre Trained word embeddings"
   ]
  },
  {
   "cell_type": "code",
   "execution_count": 7,
   "metadata": {},
   "outputs": [],
   "source": [
    "w2vec_model = gensim.models.KeyedVectors.load_word2vec_format('data/GoogleNews-vectors-negative300.bin.gz', binary=True)"
   ]
  },
  {
   "cell_type": "code",
   "execution_count": 8,
   "metadata": {},
   "outputs": [],
   "source": [
    "stopwords = nltk.corpus.stopwords.words('english') \n",
    "def preprocessing(dataframe):\n",
    "    vectors = pd.DataFrame()\n",
    "    for doc in dataframe['review'].str.lower().str.replace('[^a-z ]', ''): \n",
    "        temp = pd.DataFrame()  \n",
    "        for word in doc.split(' '):\n",
    "            if word not in stopwords: \n",
    "                try:\n",
    "                    word_vec = w2vec_model[word] \n",
    "                    temp = temp.append(pd.Series(word_vec), ignore_index = True) \n",
    "                except:\n",
    "                    pass\n",
    "        vector = temp.mean()\n",
    "        vectors = vectors.append(vector, ignore_index = True)\n",
    "    return vectors"
   ]
  },
  {
   "cell_type": "code",
   "execution_count": 9,
   "metadata": {},
   "outputs": [
    {
     "data": {
      "text/plain": [
       "(5000, 300)"
      ]
     },
     "execution_count": 9,
     "metadata": {},
     "output_type": "execute_result"
    }
   ],
   "source": [
    "#train_vectors = pd.DataFrame()\n",
    "train_vectors = preprocessing(train_data)\n",
    "train_vectors.shape"
   ]
  },
  {
   "cell_type": "code",
   "execution_count": 10,
   "metadata": {},
   "outputs": [
    {
     "data": {
      "text/plain": [
       "(1000, 300)"
      ]
     },
     "execution_count": 10,
     "metadata": {},
     "output_type": "execute_result"
    }
   ],
   "source": [
    "test_vectors = preprocessing(test_data)\n",
    "test_vectors.shape"
   ]
  },
  {
   "cell_type": "code",
   "execution_count": 11,
   "metadata": {},
   "outputs": [
    {
     "name": "stdout",
     "output_type": "stream",
     "text": [
      "(5000,)\n",
      "(1000,)\n"
     ]
    }
   ],
   "source": [
    "print(train_data['sentiment'].shape)\n",
    "print(test_data['sentiment'].shape)"
   ]
  },
  {
   "cell_type": "code",
   "execution_count": 12,
   "metadata": {},
   "outputs": [
    {
     "data": {
      "text/plain": [
       "0.811"
      ]
     },
     "execution_count": 12,
     "metadata": {},
     "output_type": "execute_result"
    }
   ],
   "source": [
    "model = AdaBoostClassifier(n_estimators=500)\n",
    "model.fit(train_vectors, train_data['sentiment'])\n",
    "test_pred = model.predict(test_vectors)\n",
    "accuracy_score(test_data['sentiment'], test_pred)"
   ]
  },
  {
   "cell_type": "code",
   "execution_count": null,
   "metadata": {},
   "outputs": [],
   "source": []
  }
 ],
 "metadata": {
  "kernelspec": {
   "display_name": "Python 2",
   "language": "python",
   "name": "python2"
  },
  "language_info": {
   "codemirror_mode": {
    "name": "ipython",
    "version": 3
   },
   "file_extension": ".py",
   "mimetype": "text/x-python",
   "name": "python",
   "nbconvert_exporter": "python",
   "pygments_lexer": "ipython3",
   "version": "3.7.2"
  }
 },
 "nbformat": 4,
 "nbformat_minor": 2
}
