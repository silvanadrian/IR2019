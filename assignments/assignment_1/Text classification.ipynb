{
 "cells": [
  {
   "cell_type": "markdown",
   "metadata": {},
   "source": [
    "# Word Embeddings for Text Classification"
   ]
  },
  {
   "cell_type": "code",
   "execution_count": 15,
   "metadata": {},
   "outputs": [],
   "source": [
    "import pandas as pd\n",
    "import os\n",
    "import numpy as np\n",
    "from nltk.corpus import stopwords\n",
    "#Read Reviews\n",
    "\n",
    "labels = {'pos': 1, 'neg': 0}\n",
    "train_data = pd.DataFrame()\n",
    "train_folder = 'data/aclImdb/train/'\n",
    "for l in ('pos', 'neg'):\n",
    "    path = os.path.join(train_folder, l)\n",
    "    for file in os.listdir (path) :\n",
    "        with open(os.path.join(path, file),'r', encoding='utf-8') as infile:\n",
    "            txt = infile.read()\n",
    "        train_data = train_data.append([[txt, labels[l]]],ignore_index=True)\n",
    "train_data.columns = ['review', 'sentiment']\n",
    "train_data.to_csv('data/train_data.csv', sep=',', encoding='utf-8', index=False)"
   ]
  },
  {
   "cell_type": "code",
   "execution_count": 16,
   "metadata": {},
   "outputs": [],
   "source": [
    "# Get test data\n",
    "test_folder = 'data/aclImdb/test/'\n",
    "test_data = pd.DataFrame()  \n",
    "for l in ('pos', 'neg'):\n",
    "    path = os.path.join(test_folder, l)\n",
    "    for file in os.listdir (path) :\n",
    "        with open(os.path.join(path, file),'r', encoding='utf-8') as infile:\n",
    "            txt = infile.read()\n",
    "        test_data = test_data.append([[txt, labels[l]]],ignore_index=True)\n",
    "test_data.columns =  ['review', 'sentiment']\n",
    "test_data.to_csv('data/test_data.csv', sep=',', encoding='utf-8', index=False)"
   ]
  },
  {
   "cell_type": "code",
   "execution_count": 17,
   "metadata": {},
   "outputs": [
    {
     "name": "stdout",
     "output_type": "stream",
     "text": [
      "0    For a movie that gets no respect there sure ar...\n",
      "1    Bizarre horror movie filled with famous faces ...\n",
      "2    A solid, if unremarkable film. Matthau, as Ein...\n",
      "3    It's a strange feeling to sit alone in a theat...\n",
      "4    You probably all already know this by now, but...\n",
      "Name: review, dtype: object\n",
      "0    Based on an actual story, John Boorman shows t...\n",
      "1    This is a gem. As a Film Four production - the...\n",
      "2    I really like this show. It has drama, romance...\n",
      "3    This is the best 3-D experience Disney has at ...\n",
      "4    Of the Korean movies I've seen, only three had...\n",
      "Name: review, dtype: object\n"
     ]
    }
   ],
   "source": [
    "train_data = pd.read_csv('data/train_data.csv', sep=',', encoding='utf-8', header=0)\n",
    "test_data = pd.read_csv('data/test_data.csv', sep=',', encoding='utf-8', header=0)\n",
    "\n",
    "print(train_data['review'].head())\n",
    "print(test_data['review'].head())"
   ]
  },
  {
   "cell_type": "code",
   "execution_count": 18,
   "metadata": {},
   "outputs": [],
   "source": [
    "# take smaller sample for faster runtime\n",
    "train_data = train_data.sample(n=5000,replace=True)\n",
    "test_data = test_data.sample(n=1000,replace=True)"
   ]
  },
  {
   "cell_type": "markdown",
   "metadata": {},
   "source": [
    "## Pre Trained word embeddings"
   ]
  },
  {
   "cell_type": "code",
   "execution_count": 19,
   "metadata": {},
   "outputs": [],
   "source": [
    "import gensim\n",
    "w2vec_model = gensim.models.KeyedVectors.load_word2vec_format('data/GoogleNews-vectors-negative300.bin.gz', binary=True)"
   ]
  },
  {
   "cell_type": "code",
   "execution_count": 20,
   "metadata": {},
   "outputs": [
    {
     "data": {
      "text/plain": [
       "(5000, 300)"
      ]
     },
     "execution_count": 20,
     "metadata": {},
     "output_type": "execute_result"
    }
   ],
   "source": [
    "import nltk\n",
    "train_vectors = pd.DataFrame() \n",
    "stopwords = nltk.corpus.stopwords.words('english') \n",
    "for doc in train_data['review'].str.lower().str.replace('[^a-z ]', ''): \n",
    "    temp = pd.DataFrame()  \n",
    "    for word in doc.split(' '):\n",
    "        if word not in stopwords: \n",
    "            try:\n",
    "                word_vec = w2vec_model[word] \n",
    "                temp = temp.append(pd.Series(word_vec), ignore_index = True) \n",
    "            except:\n",
    "                pass\n",
    "    train_vector = temp.mean()\n",
    "    train_vectors = train_vectors.append(train_vector, ignore_index = True) \n",
    "train_vectors.shape"
   ]
  },
  {
   "cell_type": "code",
   "execution_count": 21,
   "metadata": {},
   "outputs": [
    {
     "data": {
      "text/plain": [
       "(1000, 300)"
      ]
     },
     "execution_count": 21,
     "metadata": {},
     "output_type": "execute_result"
    }
   ],
   "source": [
    "test_vectors = pd.DataFrame()\n",
    "\n",
    "for doc in test_data['review'].str.lower().str.replace('[^a-z ]', ''): \n",
    "    temp = pd.DataFrame()  \n",
    "    for word in doc.split(' '): \n",
    "        if word not in stopwords: \n",
    "            try:\n",
    "                word_vec = w2vec_model[word]\n",
    "                temp = temp.append(pd.Series(word_vec), ignore_index = True)\n",
    "            except:\n",
    "                pass\n",
    "    test_vector = temp.mean()\n",
    "    test_vectors = test_vectors.append(test_vector, ignore_index = True)\n",
    "test_vectors.shape"
   ]
  },
  {
   "cell_type": "code",
   "execution_count": 22,
   "metadata": {},
   "outputs": [
    {
     "name": "stdout",
     "output_type": "stream",
     "text": [
      "(5000,)\n",
      "(1000,)\n"
     ]
    }
   ],
   "source": [
    "print(train_data['sentiment'].shape)\n",
    "print(test_data['sentiment'].shape)"
   ]
  },
  {
   "cell_type": "code",
   "execution_count": 23,
   "metadata": {},
   "outputs": [
    {
     "data": {
      "text/plain": [
       "0.788"
      ]
     },
     "execution_count": 23,
     "metadata": {},
     "output_type": "execute_result"
    }
   ],
   "source": [
    "from sklearn.ensemble import AdaBoostClassifier\n",
    "model = AdaBoostClassifier(n_estimators=500, random_state = 1)\n",
    "model.fit(train_vectors, train_data['sentiment'])\n",
    "test_pred = model.predict(test_vectors)\n",
    "from sklearn.metrics import accuracy_score\n",
    "accuracy_score(test_data['sentiment'], test_pred)"
   ]
  },
  {
   "cell_type": "code",
   "execution_count": null,
   "metadata": {},
   "outputs": [],
   "source": []
  }
 ],
 "metadata": {
  "kernelspec": {
   "display_name": "Python 2",
   "language": "python",
   "name": "python2"
  },
  "language_info": {
   "codemirror_mode": {
    "name": "ipython",
    "version": 3
   },
   "file_extension": ".py",
   "mimetype": "text/x-python",
   "name": "python",
   "nbconvert_exporter": "python",
   "pygments_lexer": "ipython3",
   "version": "3.7.2"
  }
 },
 "nbformat": 4,
 "nbformat_minor": 2
}
