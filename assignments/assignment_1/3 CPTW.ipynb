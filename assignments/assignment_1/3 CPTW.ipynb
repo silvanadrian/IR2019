{
 "cells": [
  {
   "cell_type": "markdown",
   "metadata": {},
   "source": [
    "# Contextually Propagated Term Weights for Document Representation"
   ]
  },
  {
   "cell_type": "markdown",
   "metadata": {},
   "source": [
    "## Load reuters training/test data"
   ]
  },
  {
   "cell_type": "code",
   "execution_count": 21,
   "metadata": {},
   "outputs": [],
   "source": [
    "# load training data\n",
    "train_file = open(\"data/reuters/r8-train-all-terms.txt\", \"r\")\n",
    "train_data = []\n",
    "train_labels = []\n",
    "for line in train_file:\n",
    "    splitted = line.split()\n",
    "    train_labels.append(splitted[0])\n",
    "    words = \" \".join(splitted[1:])\n",
    "    train_data.append(words)"
   ]
  },
  {
   "cell_type": "code",
   "execution_count": 22,
   "metadata": {},
   "outputs": [],
   "source": [
    "#loading test data\n",
    "test_file = open(\"data/reuters/r8-test-all-terms.txt\", \"r\")\n",
    "test_data = []\n",
    "test_labels = []\n",
    "for line in test_file:\n",
    "    splitted = line.split()\n",
    "    test_labels.append(splitted[0])\n",
    "    words = \" \".join(splitted[1:])\n",
    "    test_data.append(words)"
   ]
  },
  {
   "cell_type": "markdown",
   "metadata": {},
   "source": [
    "## TF-IDF baseline"
   ]
  },
  {
   "cell_type": "code",
   "execution_count": 20,
   "metadata": {},
   "outputs": [],
   "source": [
    "from sklearn.neighbors import NearestNeighbors \n",
    "from sklearn.feature_extraction.text import CountVectorizer, TfidfTransformer \n",
    "\n",
    "x_train = train_texts\n",
    "\n",
    "# CountVectorizer for transforming the text \n",
    "cv = CountVectorizer()\n",
    "X_train_counts = cv.fit_transform(training) \n",
    "tfidf = TfidfTransformer() \n",
    "train_tfidf = tfidf.fit_transform(X_train_counts)\n",
    "\n",
    "# apply knn for evaluation purposes\n",
    "knn = NearestNeighbors(n_neighbors=1, n_jobs=-1) \n",
    "knn.fit(train_tfidf)\n",
    "\n",
    "test= test_texts \n",
    "X_test_counts = count_vect.transform(test)\n",
    "X_test_tfidf = tfidf_transformer.transform(X_test_counts)\n",
    "\n",
    "comp = knn.kneighbors(X_test_tfidf, return_distance=False)"
   ]
  },
  {
   "cell_type": "markdown",
   "metadata": {},
   "source": [
    "### TF-IDF Scores"
   ]
  },
  {
   "cell_type": "code",
   "execution_count": 9,
   "metadata": {},
   "outputs": [
    {
     "name": "stdout",
     "output_type": "stream",
     "text": [
      "micro: 0.840109639104614\n",
      "macro: 0.7862565745939916\n"
     ]
    }
   ],
   "source": [
    "from sklearn.metrics import f1_score\n",
    "pred_labels = [train_labels[int(index)] for index in comp]\n",
    "print(\"micro:\", f1_score(test_labels, pred_labels, average = \"micro\"))\n",
    "print(\"macro:\", f1_score(test_labels, pred_labels, average = \"macro\"))"
   ]
  },
  {
   "cell_type": "markdown",
   "metadata": {},
   "source": [
    "## CPTW"
   ]
  },
  {
   "cell_type": "code",
   "execution_count": null,
   "metadata": {},
   "outputs": [],
   "source": []
  },
  {
   "cell_type": "code",
   "execution_count": null,
   "metadata": {},
   "outputs": [],
   "source": [
    "def gamma(w_k, d_i, w_j):\n",
    "    freq = d_i.split().count(w_k)\n",
    "    sim = model.similarity(w_k, w_j)\n",
    "    return freq * sim\n",
    "\n",
    "def cptw(d_i, embedding):\n",
    "    for w in d_i.split()"
   ]
  }
 ],
 "metadata": {
  "kernelspec": {
   "display_name": "Python 3",
   "language": "python",
   "name": "python3"
  },
  "language_info": {
   "codemirror_mode": {
    "name": "ipython",
    "version": 3
   },
   "file_extension": ".py",
   "mimetype": "text/x-python",
   "name": "python",
   "nbconvert_exporter": "python",
   "pygments_lexer": "ipython3",
   "version": "3.7.2"
  }
 },
 "nbformat": 4,
 "nbformat_minor": 2
}
